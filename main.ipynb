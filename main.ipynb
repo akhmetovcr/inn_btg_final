{
 "cells": [
  {
   "cell_type": "markdown",
   "metadata": {},
   "source": [
    "## Происходит считывание данных с файла и их визуализация"
   ]
  },
  {
   "cell_type": "code",
   "execution_count": 1,
   "metadata": {},
   "outputs": [],
   "source": [
    "# Рисовать графики сразу \n",
    "%matplotlib inline \n",
    "\n",
    "# необходимые либы \n",
    "import numpy as np\n",
    "import pandas as pd\n",
    "import matplotlib.pyplot as plt\n",
    "import datetime as dt\n",
    "import time\n",
    "\n",
    "# Для виджетов \n",
    "from IPython.display import display, clear_output\n",
    "from ipywidgets import DatePicker, Checkbox, ToggleButton, HBox\n",
    "\n",
    "plt.style.use('ggplot')\n",
    "plt.rcParams['figure.figsize'] = (15, 5)"
   ]
  },
  {
   "cell_type": "markdown",
   "metadata": {},
   "source": [
    "### 1. Считываем данные генерации и потребления за год"
   ]
  },
  {
   "cell_type": "code",
   "execution_count": 2,
   "metadata": {},
   "outputs": [
    {
     "data": {
      "text/html": [
       "<div>\n",
       "<style scoped>\n",
       "    .dataframe tbody tr th:only-of-type {\n",
       "        vertical-align: middle;\n",
       "    }\n",
       "\n",
       "    .dataframe tbody tr th {\n",
       "        vertical-align: top;\n",
       "    }\n",
       "\n",
       "    .dataframe thead th {\n",
       "        text-align: right;\n",
       "    }\n",
       "</style>\n",
       "<table border=\"1\" class=\"dataframe\">\n",
       "  <thead>\n",
       "    <tr style=\"text-align: right;\">\n",
       "      <th></th>\n",
       "      <th>DATE_TIME</th>\n",
       "      <th>E_USE_FACT</th>\n",
       "    </tr>\n",
       "  </thead>\n",
       "  <tbody>\n",
       "    <tr>\n",
       "      <th>0</th>\n",
       "      <td>2016-01-01 00:00:00</td>\n",
       "      <td>30382.0</td>\n",
       "    </tr>\n",
       "    <tr>\n",
       "      <th>1</th>\n",
       "      <td>2016-01-01 01:00:00</td>\n",
       "      <td>29942.0</td>\n",
       "    </tr>\n",
       "    <tr>\n",
       "      <th>2</th>\n",
       "      <td>2016-01-01 02:00:00</td>\n",
       "      <td>29658.0</td>\n",
       "    </tr>\n",
       "    <tr>\n",
       "      <th>3</th>\n",
       "      <td>2016-01-01 03:00:00</td>\n",
       "      <td>29637.0</td>\n",
       "    </tr>\n",
       "    <tr>\n",
       "      <th>4</th>\n",
       "      <td>2016-01-01 04:00:00</td>\n",
       "      <td>29517.0</td>\n",
       "    </tr>\n",
       "    <tr>\n",
       "      <th>...</th>\n",
       "      <td>...</td>\n",
       "      <td>...</td>\n",
       "    </tr>\n",
       "    <tr>\n",
       "      <th>43051</th>\n",
       "      <td>2020-11-28 19:00:00</td>\n",
       "      <td>0.0</td>\n",
       "    </tr>\n",
       "    <tr>\n",
       "      <th>43052</th>\n",
       "      <td>2020-11-28 20:00:00</td>\n",
       "      <td>0.0</td>\n",
       "    </tr>\n",
       "    <tr>\n",
       "      <th>43053</th>\n",
       "      <td>2020-11-28 21:00:00</td>\n",
       "      <td>0.0</td>\n",
       "    </tr>\n",
       "    <tr>\n",
       "      <th>43054</th>\n",
       "      <td>2020-11-28 22:00:00</td>\n",
       "      <td>0.0</td>\n",
       "    </tr>\n",
       "    <tr>\n",
       "      <th>43055</th>\n",
       "      <td>2020-11-28 23:00:00</td>\n",
       "      <td>0.0</td>\n",
       "    </tr>\n",
       "  </tbody>\n",
       "</table>\n",
       "<p>43056 rows × 2 columns</p>\n",
       "</div>"
      ],
      "text/plain": [
       "                DATE_TIME  E_USE_FACT\n",
       "0     2016-01-01 00:00:00     30382.0\n",
       "1     2016-01-01 01:00:00     29942.0\n",
       "2     2016-01-01 02:00:00     29658.0\n",
       "3     2016-01-01 03:00:00     29637.0\n",
       "4     2016-01-01 04:00:00     29517.0\n",
       "...                   ...         ...\n",
       "43051 2020-11-28 19:00:00         0.0\n",
       "43052 2020-11-28 20:00:00         0.0\n",
       "43053 2020-11-28 21:00:00         0.0\n",
       "43054 2020-11-28 22:00:00         0.0\n",
       "43055 2020-11-28 23:00:00         0.0\n",
       "\n",
       "[43056 rows x 2 columns]"
      ]
     },
     "execution_count": 2,
     "metadata": {},
     "output_type": "execute_result"
    }
   ],
   "source": [
    "# Объединяем колонки INTERVAL иM_DATE\n",
    "def date_time_parser(d, t): \n",
    "    date = dt.datetime.strptime(d, '%d.%m.%Y %H:%M:%S')\n",
    "    try: \n",
    "        hour = int(t)\n",
    "    except ValueError:\n",
    "        hour = 0\n",
    "    finally:\n",
    "        time = dt.time(hour)\n",
    "    return dt.datetime.combine(date, time)\n",
    "    \n",
    "df = pd.read_csv(\n",
    "    'data/Генерация и потребление_01.01.2016-28.11.2020.csv',\n",
    "    sep=';',\n",
    "    parse_dates={'DATE_TIME':['M_DATE', \"INTERVAL\"]}, \n",
    "    date_parser=date_time_parser,\n",
    "    )\n",
    "# Удалим неопределенные? зоны \n",
    "# df = df[df['POWER_SYS_ID'] != 0]\n",
    "del df['PRICE_ZONE_ID']\n",
    "del df['POWER_SYS_ID']\n",
    "df"
   ]
  },
  {
   "cell_type": "markdown",
   "metadata": {},
   "source": [
    "### 2. Фильтрация данных\n",
    "#### 2.1 Дата"
   ]
  },
  {
   "cell_type": "code",
   "execution_count": 3,
   "metadata": {},
   "outputs": [
    {
     "data": {
      "application/vnd.jupyter.widget-view+json": {
       "model_id": "02f8b5c45e294d8790d7854916ddb28c",
       "version_major": 2,
       "version_minor": 0
      },
      "text/plain": [
       "HBox(children=(DatePicker(value=datetime.datetime(2016, 1, 1, 0, 0), description='От:'), DatePicker(value=date…"
      ]
     },
     "metadata": {},
     "output_type": "display_data"
    }
   ],
   "source": [
    "# Определяем от и до \n",
    "date_from = dt.datetime(2016, 1, 1, 0, 0)\n",
    "date_to = dt.datetime(2019, 12, 31, 0, 0)\n",
    "\n",
    "dpicker_from = DatePicker(\n",
    "    description='От:',\n",
    "    value = date_from\n",
    ")\n",
    "dpicker_to = DatePicker(\n",
    "    description='До:',\n",
    "    value=date_to\n",
    ")\n",
    "\n",
    "def time_2_datetime(t):\n",
    "    return dt.datetime.combine(t, dt.datetime.min.time())\n",
    "\n",
    "def on_from_button_clicked(b):\n",
    "    global date_from\n",
    "    date_from = time_2_datetime(b['new'])\n",
    "\n",
    "def on_to_button_clicked(b):\n",
    "    global date_to\n",
    "    date_to = time_2_datetime(b['new'])\n",
    "\n",
    "dpicker_from.observe(on_from_button_clicked, names='value')\n",
    "dpicker_to.observe(on_to_button_clicked, names='value')\n",
    "\n",
    "HBox([dpicker_from, dpicker_to])\n"
   ]
  },
  {
   "cell_type": "markdown",
   "metadata": {},
   "source": [
    "#### 2.2 Ценовая зона"
   ]
  },
  {
   "cell_type": "code",
   "execution_count": 4,
   "metadata": {},
   "outputs": [],
   "source": [
    "# first_zone = True \n",
    "# second_zone = True \n",
    "\n",
    "# first_cb = Checkbox(\n",
    "#     description=\"1 ценовая зона\",\n",
    "#     value=first_zone)\n",
    "\n",
    "# second_cb = Checkbox(\n",
    "#     description=\"2 ценовая зона\",\n",
    "#     value=second_zone)\n",
    "\n",
    "# def on_first_clicked(cb):\n",
    "#     global first_zone\n",
    "#     first_zone = cb.new\n",
    "#     print(\"First zone \", first_zone)\n",
    "    \n",
    "# def on_second_clicked(cb): \n",
    "#     global second_zone\n",
    "#     second_zone = cb.new\n",
    "#     print(\"Second zone \", second_zone)\n",
    "    \n",
    "# first_cb.observe(on_first_clicked, names='value')\n",
    "# second_cb.observe(on_second_clicked, names='value')\n",
    "\n",
    "# HBox([first_cb, second_cb])\n"
   ]
  },
  {
   "cell_type": "markdown",
   "metadata": {},
   "source": [
    "#### 2.3 Объединенные энергосистемы"
   ]
  },
  {
   "cell_type": "code",
   "execution_count": 5,
   "metadata": {},
   "outputs": [],
   "source": [
    "# sys_list = df['POWER_SYS_ID'].unique()\n",
    "\n",
    "# # инициализируем выбранные \n",
    "# sys_checked = dict((sys, True) for sys in sys_list)\n",
    "\n",
    "# # создаём кнопочки \n",
    "# sys_cbs = [] \n",
    "# for sys in sys_list: \n",
    "#     def handler(local_sys): \n",
    "#         def wrap(cb):\n",
    "#             global sys_checked\n",
    "#             sys_checked[local_sys] = cb.new \n",
    "#             print(f\"ОЭС {local_sys} {cb.new}\")\n",
    "#         return wrap\n",
    "    \n",
    "#     cb = Checkbox(\n",
    "#         description=str(sys),\n",
    "#         value = sys_checked[sys],\n",
    "#         )\n",
    "#     cb.observe(handler(sys), names='value')\n",
    "#     sys_cbs.append(cb)\n",
    "    \n",
    "# HBox(sys_cbs)"
   ]
  },
  {
   "cell_type": "markdown",
   "metadata": {},
   "source": [
    "#### 2.4 Выбираем графики "
   ]
  },
  {
   "cell_type": "code",
   "execution_count": 6,
   "metadata": {},
   "outputs": [
    {
     "data": {
      "application/vnd.jupyter.widget-view+json": {
       "model_id": "86376c5e488345f78048bcb7fa8ecd58",
       "version_major": 2,
       "version_minor": 0
      },
      "text/plain": [
       "HBox(children=(Checkbox(value=True, description='E_USE_FACT'),))"
      ]
     },
     "metadata": {},
     "output_type": "display_data"
    }
   ],
   "source": [
    "# Список графиков \n",
    "# graphs = ('E_USE_FACT','E_USE_PLAN', 'GEN_FACT', 'GEN_PLAN')\n",
    "graphs = ('E_USE_FACT',)\n",
    "# инициализируем выбранные графики \n",
    "graph_checked = dict((gr, True) for gr in graphs)\n",
    "\n",
    "# создаём кнопочки \n",
    "graph_cbs = [] \n",
    "for graph in graphs: \n",
    "    def handler(local_graph): \n",
    "        def wrap(cb):\n",
    "            global graph_checked\n",
    "            graph_checked[local_graph] = cb.new \n",
    "            print(f\"График {local_graph} {cb.new}\")\n",
    "        return wrap\n",
    "    \n",
    "    cb = Checkbox(\n",
    "        description=str(graph),\n",
    "        value = graph_checked[graph],\n",
    "        )\n",
    "    cb.observe(handler(graph), names='value')\n",
    "    graph_cbs.append(cb)\n",
    "    \n",
    "HBox(graph_cbs)"
   ]
  },
  {
   "cell_type": "markdown",
   "metadata": {},
   "source": [
    "### 3. Графики по заданному диапазону"
   ]
  },
  {
   "cell_type": "code",
   "execution_count": 7,
   "metadata": {
    "scrolled": true
   },
   "outputs": [
    {
     "data": {
      "application/vnd.jupyter.widget-view+json": {
       "model_id": "8e7371c6d76e45e09fae54878996c32e",
       "version_major": 2,
       "version_minor": 0
      },
      "text/plain": [
       "ToggleButton(value=False, description='Show')"
      ]
     },
     "metadata": {},
     "output_type": "display_data"
    },
    {
     "ename": "KeyError",
     "evalue": "'POWER_SYS_ID'",
     "output_type": "error",
     "traceback": [
      "\u001b[1;31m---------------------------------------------------------------------------\u001b[0m",
      "\u001b[1;31mKeyError\u001b[0m                                  Traceback (most recent call last)",
      "\u001b[1;32mC:\\WPy64-3850\\python-3.8.5.amd64\\lib\\site-packages\\pandas\\core\\indexes\\base.py\u001b[0m in \u001b[0;36mget_loc\u001b[1;34m(self, key, method, tolerance)\u001b[0m\n\u001b[0;32m   2888\u001b[0m             \u001b[1;32mtry\u001b[0m\u001b[1;33m:\u001b[0m\u001b[1;33m\u001b[0m\u001b[1;33m\u001b[0m\u001b[0m\n\u001b[1;32m-> 2889\u001b[1;33m                 \u001b[1;32mreturn\u001b[0m \u001b[0mself\u001b[0m\u001b[1;33m.\u001b[0m\u001b[0m_engine\u001b[0m\u001b[1;33m.\u001b[0m\u001b[0mget_loc\u001b[0m\u001b[1;33m(\u001b[0m\u001b[0mcasted_key\u001b[0m\u001b[1;33m)\u001b[0m\u001b[1;33m\u001b[0m\u001b[1;33m\u001b[0m\u001b[0m\n\u001b[0m\u001b[0;32m   2890\u001b[0m             \u001b[1;32mexcept\u001b[0m \u001b[0mKeyError\u001b[0m \u001b[1;32mas\u001b[0m \u001b[0merr\u001b[0m\u001b[1;33m:\u001b[0m\u001b[1;33m\u001b[0m\u001b[1;33m\u001b[0m\u001b[0m\n",
      "\u001b[1;32mpandas\\_libs\\index.pyx\u001b[0m in \u001b[0;36mpandas._libs.index.IndexEngine.get_loc\u001b[1;34m()\u001b[0m\n",
      "\u001b[1;32mpandas\\_libs\\index.pyx\u001b[0m in \u001b[0;36mpandas._libs.index.IndexEngine.get_loc\u001b[1;34m()\u001b[0m\n",
      "\u001b[1;32mpandas\\_libs\\hashtable_class_helper.pxi\u001b[0m in \u001b[0;36mpandas._libs.hashtable.PyObjectHashTable.get_item\u001b[1;34m()\u001b[0m\n",
      "\u001b[1;32mpandas\\_libs\\hashtable_class_helper.pxi\u001b[0m in \u001b[0;36mpandas._libs.hashtable.PyObjectHashTable.get_item\u001b[1;34m()\u001b[0m\n",
      "\u001b[1;31mKeyError\u001b[0m: 'POWER_SYS_ID'",
      "\nThe above exception was the direct cause of the following exception:\n",
      "\u001b[1;31mKeyError\u001b[0m                                  Traceback (most recent call last)",
      "\u001b[1;32m<ipython-input-7-9f4129b53698>\u001b[0m in \u001b[0;36m<module>\u001b[1;34m\u001b[0m\n\u001b[0;32m     64\u001b[0m     \u001b[0mplt\u001b[0m\u001b[1;33m.\u001b[0m\u001b[0mlegend\u001b[0m\u001b[1;33m(\u001b[0m\u001b[1;33m)\u001b[0m\u001b[1;33m\u001b[0m\u001b[1;33m\u001b[0m\u001b[0m\n\u001b[0;32m     65\u001b[0m \u001b[0mtb\u001b[0m\u001b[1;33m.\u001b[0m\u001b[0mobserve\u001b[0m\u001b[1;33m(\u001b[0m\u001b[0mon_show\u001b[0m\u001b[1;33m,\u001b[0m \u001b[0mnames\u001b[0m\u001b[1;33m=\u001b[0m\u001b[1;34m'value'\u001b[0m\u001b[1;33m)\u001b[0m\u001b[1;33m\u001b[0m\u001b[1;33m\u001b[0m\u001b[0m\n\u001b[1;32m---> 66\u001b[1;33m \u001b[0mon_show\u001b[0m\u001b[1;33m(\u001b[0m\u001b[1;33m{\u001b[0m\u001b[1;33m}\u001b[0m\u001b[1;33m)\u001b[0m\u001b[1;33m\u001b[0m\u001b[1;33m\u001b[0m\u001b[0m\n\u001b[0m\u001b[0;32m     67\u001b[0m \u001b[1;33m\u001b[0m\u001b[0m\n",
      "\u001b[1;32m<ipython-input-7-9f4129b53698>\u001b[0m in \u001b[0;36mon_show\u001b[1;34m(state)\u001b[0m\n\u001b[0;32m     54\u001b[0m \u001b[1;33m\u001b[0m\u001b[0m\n\u001b[0;32m     55\u001b[0m     \u001b[1;31m# выводим на экран\u001b[0m\u001b[1;33m\u001b[0m\u001b[1;33m\u001b[0m\u001b[1;33m\u001b[0m\u001b[0m\n\u001b[1;32m---> 56\u001b[1;33m     \u001b[1;32mfor\u001b[0m \u001b[0msys_key\u001b[0m \u001b[1;32min\u001b[0m \u001b[0mfiltered\u001b[0m\u001b[1;33m[\u001b[0m\u001b[1;34m'POWER_SYS_ID'\u001b[0m\u001b[1;33m]\u001b[0m\u001b[1;33m.\u001b[0m\u001b[0munique\u001b[0m\u001b[1;33m(\u001b[0m\u001b[1;33m)\u001b[0m\u001b[1;33m:\u001b[0m\u001b[1;33m\u001b[0m\u001b[1;33m\u001b[0m\u001b[0m\n\u001b[0m\u001b[0;32m     57\u001b[0m         \u001b[0msys_df\u001b[0m \u001b[1;33m=\u001b[0m \u001b[0mfiltered\u001b[0m\u001b[1;33m[\u001b[0m\u001b[0mfiltered\u001b[0m\u001b[1;33m[\u001b[0m\u001b[1;34m'POWER_SYS_ID'\u001b[0m\u001b[1;33m]\u001b[0m \u001b[1;33m==\u001b[0m \u001b[0msys_key\u001b[0m\u001b[1;33m]\u001b[0m\u001b[1;33m\u001b[0m\u001b[1;33m\u001b[0m\u001b[0m\n\u001b[0;32m     58\u001b[0m         \u001b[1;32mfor\u001b[0m \u001b[0mpower_key\u001b[0m \u001b[1;32min\u001b[0m \u001b[0mgraphs\u001b[0m\u001b[1;33m:\u001b[0m\u001b[1;33m\u001b[0m\u001b[1;33m\u001b[0m\u001b[0m\n",
      "\u001b[1;32mC:\\WPy64-3850\\python-3.8.5.amd64\\lib\\site-packages\\pandas\\core\\frame.py\u001b[0m in \u001b[0;36m__getitem__\u001b[1;34m(self, key)\u001b[0m\n\u001b[0;32m   2897\u001b[0m             \u001b[1;32mif\u001b[0m \u001b[0mself\u001b[0m\u001b[1;33m.\u001b[0m\u001b[0mcolumns\u001b[0m\u001b[1;33m.\u001b[0m\u001b[0mnlevels\u001b[0m \u001b[1;33m>\u001b[0m \u001b[1;36m1\u001b[0m\u001b[1;33m:\u001b[0m\u001b[1;33m\u001b[0m\u001b[1;33m\u001b[0m\u001b[0m\n\u001b[0;32m   2898\u001b[0m                 \u001b[1;32mreturn\u001b[0m \u001b[0mself\u001b[0m\u001b[1;33m.\u001b[0m\u001b[0m_getitem_multilevel\u001b[0m\u001b[1;33m(\u001b[0m\u001b[0mkey\u001b[0m\u001b[1;33m)\u001b[0m\u001b[1;33m\u001b[0m\u001b[1;33m\u001b[0m\u001b[0m\n\u001b[1;32m-> 2899\u001b[1;33m             \u001b[0mindexer\u001b[0m \u001b[1;33m=\u001b[0m \u001b[0mself\u001b[0m\u001b[1;33m.\u001b[0m\u001b[0mcolumns\u001b[0m\u001b[1;33m.\u001b[0m\u001b[0mget_loc\u001b[0m\u001b[1;33m(\u001b[0m\u001b[0mkey\u001b[0m\u001b[1;33m)\u001b[0m\u001b[1;33m\u001b[0m\u001b[1;33m\u001b[0m\u001b[0m\n\u001b[0m\u001b[0;32m   2900\u001b[0m             \u001b[1;32mif\u001b[0m \u001b[0mis_integer\u001b[0m\u001b[1;33m(\u001b[0m\u001b[0mindexer\u001b[0m\u001b[1;33m)\u001b[0m\u001b[1;33m:\u001b[0m\u001b[1;33m\u001b[0m\u001b[1;33m\u001b[0m\u001b[0m\n\u001b[0;32m   2901\u001b[0m                 \u001b[0mindexer\u001b[0m \u001b[1;33m=\u001b[0m \u001b[1;33m[\u001b[0m\u001b[0mindexer\u001b[0m\u001b[1;33m]\u001b[0m\u001b[1;33m\u001b[0m\u001b[1;33m\u001b[0m\u001b[0m\n",
      "\u001b[1;32mC:\\WPy64-3850\\python-3.8.5.amd64\\lib\\site-packages\\pandas\\core\\indexes\\base.py\u001b[0m in \u001b[0;36mget_loc\u001b[1;34m(self, key, method, tolerance)\u001b[0m\n\u001b[0;32m   2889\u001b[0m                 \u001b[1;32mreturn\u001b[0m \u001b[0mself\u001b[0m\u001b[1;33m.\u001b[0m\u001b[0m_engine\u001b[0m\u001b[1;33m.\u001b[0m\u001b[0mget_loc\u001b[0m\u001b[1;33m(\u001b[0m\u001b[0mcasted_key\u001b[0m\u001b[1;33m)\u001b[0m\u001b[1;33m\u001b[0m\u001b[1;33m\u001b[0m\u001b[0m\n\u001b[0;32m   2890\u001b[0m             \u001b[1;32mexcept\u001b[0m \u001b[0mKeyError\u001b[0m \u001b[1;32mas\u001b[0m \u001b[0merr\u001b[0m\u001b[1;33m:\u001b[0m\u001b[1;33m\u001b[0m\u001b[1;33m\u001b[0m\u001b[0m\n\u001b[1;32m-> 2891\u001b[1;33m                 \u001b[1;32mraise\u001b[0m \u001b[0mKeyError\u001b[0m\u001b[1;33m(\u001b[0m\u001b[0mkey\u001b[0m\u001b[1;33m)\u001b[0m \u001b[1;32mfrom\u001b[0m \u001b[0merr\u001b[0m\u001b[1;33m\u001b[0m\u001b[1;33m\u001b[0m\u001b[0m\n\u001b[0m\u001b[0;32m   2892\u001b[0m \u001b[1;33m\u001b[0m\u001b[0m\n\u001b[0;32m   2893\u001b[0m         \u001b[1;32mif\u001b[0m \u001b[0mtolerance\u001b[0m \u001b[1;32mis\u001b[0m \u001b[1;32mnot\u001b[0m \u001b[1;32mNone\u001b[0m\u001b[1;33m:\u001b[0m\u001b[1;33m\u001b[0m\u001b[1;33m\u001b[0m\u001b[0m\n",
      "\u001b[1;31mKeyError\u001b[0m: 'POWER_SYS_ID'"
     ]
    }
   ],
   "source": [
    "# Сглаживание скользящим средним\n",
    "def running_mean(y: np.ndarray, window: int) -> np.ndarray:\n",
    "    yc = np.pad(y, window, mode='symmetric')\n",
    "    yy = y.copy()\n",
    "    for wi in range(window, len(y) + window):\n",
    "        yy[wi - window] = np.nanmean(yc[wi - window: wi + window])\n",
    "\n",
    "    return yy\n",
    "\n",
    "# фильтруем по датам \n",
    "def filter_by_date(data_frame): \n",
    "    global date_from, date_to\n",
    "    return (date_from <= data_frame['DATE_TIME']) & (data_frame['DATE_TIME'] <= date_to)\n",
    "    \n",
    "\n",
    "# # фильтруем по зонам \n",
    "# def filter_by_zones(data_frame): \n",
    "#     global first_zone, second_zone\n",
    "    \n",
    "#     zone_filter = np.zeros(data_frame.shape[0], dtype=bool)\n",
    "#     for zone_checked, zone_value in [(first_zone, 1), (second_zone, 2)]:\n",
    "#         if zone_checked:\n",
    "#             zone_filter |= (data_frame['PRICE_ZONE_ID'] == zone_value)\n",
    "#     return zone_filter\n",
    "\n",
    "# # фильтруем по ОЭС\n",
    "# def filter_by_sys(data_frame):\n",
    "#     global sys_checked\n",
    "\n",
    "#     sys_filter = np.zeros(data_frame.shape[0], dtype=bool)\n",
    "#     for sys, checked in sys_checked.items():\n",
    "#         if checked: \n",
    "#             sys_filter |= (data_frame[\"POWER_SYS_ID\"] == sys)\n",
    "#     return sys_filter \n",
    "\n",
    "\n",
    "tb = ToggleButton(\n",
    "    value=False,\n",
    "    description='Show'\n",
    "    )\n",
    "\n",
    "def on_show(state):\n",
    "    global df \n",
    "    global graphs, graph_checked\n",
    "    \n",
    "    # очищаем экран \n",
    "    clear_output(wait=True)\n",
    "    display(tb)\n",
    "    # фильтруем данные \n",
    "    filtered = df[filter_by_date(df)\n",
    "#                   & filter_by_zones(df)\n",
    "#                   & filter_by_sys(df)\n",
    "                 ]\n",
    "    \n",
    "    # выводим на экран\n",
    "    for sys_key in filtered['POWER_SYS_ID'].unique():\n",
    "        sys_df = filtered[filtered['POWER_SYS_ID'] == sys_key]\n",
    "        for power_key in graphs:\n",
    "            if graph_checked[power_key]:\n",
    "                plt.plot(sys_df['DATE_TIME'], sys_df[power_key], label='{0}'.format(power_key))\n",
    "                plt.plot(sys_df['DATE_TIME'], running_mean(sys_df[power_key].values, 24), label='{0} по суткам'.format(power_key))\n",
    "                plt.plot(sys_df['DATE_TIME'], running_mean(sys_df[power_key].values, 24 * 7), label='{0} по неделям'.format(power_key))\n",
    "                plt.plot(sys_df['DATE_TIME'], running_mean(sys_df[power_key].values, 24 * 7 * 30), label='{0} по месяцам'.format(power_key))\n",
    "    plt.legend()\n",
    "tb.observe(on_show, names='value')\n",
    "on_show({})\n",
    "\n"
   ]
  },
  {
   "cell_type": "code",
   "execution_count": null,
   "metadata": {},
   "outputs": [],
   "source": []
  }
 ],
 "metadata": {
  "colab": {
   "collapsed_sections": [],
   "name": "test.ipynb",
   "provenance": []
  },
  "kernelspec": {
   "display_name": "Python 3",
   "language": "python",
   "name": "python3"
  },
  "language_info": {
   "codemirror_mode": {
    "name": "ipython",
    "version": 3
   },
   "file_extension": ".py",
   "mimetype": "text/x-python",
   "name": "python",
   "nbconvert_exporter": "python",
   "pygments_lexer": "ipython3",
   "version": "3.8.5"
  }
 },
 "nbformat": 4,
 "nbformat_minor": 4
}
